{
 "cells": [
  {
   "cell_type": "markdown",
   "id": "5a61c678-42bd-497c-8925-f372d215d6e1",
   "metadata": {},
   "source": [
    "## Data Preprocessing "
   ]
  },
  {
   "cell_type": "code",
   "execution_count": 77,
   "id": "b364339b-9cca-4da3-a2bd-ef314b8de46d",
   "metadata": {},
   "outputs": [
    {
     "name": "stdout",
     "output_type": "stream",
     "text": [
      "Custom Ratios Data:\n",
      "   Customer ID        Purchase Date Product Category  Product Price  Quantity  \\\n",
      "0        46251  2020-09-08 09:38:32      Electronics             12         3   \n",
      "1        46251  2022-03-05 12:56:35             Home            468         4   \n",
      "2        46251  2022-05-23 18:18:01             Home            288         2   \n",
      "3        46251  2020-11-12 13:13:29         Clothing            196         1   \n",
      "4        13593  2020-11-27 17:55:11             Home            449         1   \n",
      "\n",
      "   Total Purchase Amount Payment Method  Customer Age  Returns  \\\n",
      "0                    740    Credit Card            37      0.0   \n",
      "1                   2739         PayPal            37      0.0   \n",
      "2                   3196         PayPal            37      0.0   \n",
      "3                   3509         PayPal            37      0.0   \n",
      "4                   3452    Credit Card            49      0.0   \n",
      "\n",
      "         Customer Name  Age  Gender  Churn  \n",
      "0  Christine Hernandez   37    Male      0  \n",
      "1  Christine Hernandez   37    Male      0  \n",
      "2  Christine Hernandez   37    Male      0  \n",
      "3  Christine Hernandez   37    Male      0  \n",
      "4          James Grant   49  Female      1  \n",
      "\n",
      "Large Data:\n",
      "   Customer ID        Purchase Date Product Category  Product Price  Quantity  \\\n",
      "0        44605  2023-05-03 21:30:02             Home            177         1   \n",
      "1        44605  2021-05-16 13:57:44      Electronics            174         3   \n",
      "2        44605  2020-07-13 06:16:57            Books            413         1   \n",
      "3        44605  2023-01-17 13:14:36      Electronics            396         3   \n",
      "4        44605  2021-05-01 11:29:27            Books            259         4   \n",
      "\n",
      "   Total Purchase Amount Payment Method  Customer Age  Returns Customer Name  \\\n",
      "0                   2427         PayPal            31      1.0   John Rivera   \n",
      "1                   2448         PayPal            31      1.0   John Rivera   \n",
      "2                   2345    Credit Card            31      1.0   John Rivera   \n",
      "3                    937           Cash            31      0.0   John Rivera   \n",
      "4                   2598         PayPal            31      1.0   John Rivera   \n",
      "\n",
      "   Age  Gender  Churn  \n",
      "0   31  Female      0  \n",
      "1   31  Female      0  \n",
      "2   31  Female      0  \n",
      "3   31  Female      0  \n",
      "4   31  Female      0  \n",
      "\n",
      "Columns after merge:\n",
      "Index(['Customer ID', 'Purchase Date_custom', 'Product Category_custom',\n",
      "       'Product Price_custom', 'Quantity_custom',\n",
      "       'Total Purchase Amount_custom', 'Payment Method_custom',\n",
      "       'Customer Age_custom', 'Returns_custom', 'Customer Name_custom',\n",
      "       'Age_custom', 'Gender_custom', 'Churn_custom', 'Purchase Date_large',\n",
      "       'Product Category_large', 'Product Price_large', 'Quantity_large',\n",
      "       'Total Purchase Amount_large', 'Payment Method_large',\n",
      "       'Customer Age_large', 'Returns_large', 'Customer Name_large',\n",
      "       'Age_large', 'Gender_large', 'Churn_large'],\n",
      "      dtype='object')\n",
      "\n",
      "Missing Values Before Handling:\n",
      "Customer ID                  0\n",
      "Purchase Date                0\n",
      "Product Category             0\n",
      "Product Price                0\n",
      "Quantity                     0\n",
      "Total Purchase Amount        0\n",
      "Payment Method               0\n",
      "Customer Age                 0\n",
      "Returns                  45092\n",
      "Customer Name                0\n",
      "Age                          0\n",
      "Gender                       0\n",
      "Churn                        0\n",
      "dtype: int64\n",
      "\n",
      "Missing Values After Handling:\n",
      "Customer ID              0\n",
      "Purchase Date            0\n",
      "Product Category         0\n",
      "Product Price            0\n",
      "Quantity                 0\n",
      "Total Purchase Amount    0\n",
      "Payment Method           0\n",
      "Customer Age             0\n",
      "Returns                  0\n",
      "Customer Name            0\n",
      "Age                      0\n",
      "Gender                   0\n",
      "Churn                    0\n",
      "dtype: int64\n",
      "\n",
      "Data pre-processing completed and saved to cleaned_ecommerce_data.csv\n"
     ]
    }
   ],
   "source": [
    "import pandas as pd\n",
    "import numpy as np\n",
    "\n",
    "file1 = 'ecommerce_customer_data_custom_ratios.csv'\n",
    "file2 = 'ecommerce_customer_data_large.csv'\n",
    "\n",
    "df_custom_ratios = pd.read_csv(file1)\n",
    "df_large = pd.read_csv(file2)\n",
    "\n",
    "df_large.columns = df_large.columns.str.replace('_large', '', regex=False)\n",
    "\n",
    "# Inspect the first few rows\n",
    "print(\"Custom Ratios Data:\")\n",
    "print(df_custom_ratios.head())\n",
    "print(\"\\nLarge Data:\")\n",
    "print(df_large.head())\n",
    "\n",
    "df = pd.merge(df_custom_ratios, df_large, how='inner', on='Customer ID', suffixes=('_custom', '_large'))\n",
    "\n",
    "# Print columns to identify potential conflicts\n",
    "print(\"\\nColumns after merge:\")\n",
    "print(df.columns)\n",
    "\n",
    "# Combine columns with the same base name\n",
    "for col in df.columns:\n",
    "    if col.endswith('_custom') or col.endswith('_large'):\n",
    "        base_col = col.rsplit('_', 1)[0]\n",
    "        if base_col in df.columns:\n",
    "            # Combine columns, prioritizing non-null values\n",
    "            df[base_col] = df[base_col].combine_first(df[col])\n",
    "        else:\n",
    "            # Rename to base column if not present yet\n",
    "            df[base_col] = df[col]\n",
    "        # Drop the old columns with suffixes\n",
    "        df = df.drop(columns=[col])\n",
    "\n",
    "# Check for missing values\n",
    "print(\"\\nMissing Values Before Handling:\")\n",
    "print(df.isnull().sum())\n",
    "\n",
    "# Handle missing values\n",
    "# For numerical columns, fill with mean\n",
    "numerical_cols = df.select_dtypes(include=[np.number]).columns\n",
    "df[numerical_cols] = df[numerical_cols].fillna(df[numerical_cols].mean())\n",
    "\n",
    "# For categorical columns, fill with mode\n",
    "categorical_cols = df.select_dtypes(include=['object']).columns\n",
    "for col in categorical_cols:\n",
    "    df[col] = df[col].fillna(df[col].mode()[0])\n",
    "\n",
    "# Verify missing values are handled\n",
    "print(\"\\nMissing Values After Handling:\")\n",
    "print(df.isnull().sum())\n",
    "\n",
    "df = df.drop_duplicates(subset=['Customer ID', 'Purchase Date'])\n",
    "\n",
    "cleaned_file_path = 'cleaned_ecommerce_data.csv'\n",
    "df.to_csv(cleaned_file_path, index=False)\n",
    "\n",
    "\n",
    "print(\"\\nData pre-processing completed and saved to\", cleaned_file_path)\n"
   ]
  },
  {
   "cell_type": "code",
   "execution_count": 78,
   "id": "038224e1-d4da-44fe-93fb-fd8ad46e451a",
   "metadata": {},
   "outputs": [
    {
     "name": "stdout",
     "output_type": "stream",
     "text": [
      "Index(['Customer ID', 'Purchase Date', 'Product Category', 'Product Price',\n",
      "       'Quantity', 'Total Purchase Amount', 'Payment Method', 'Customer Age',\n",
      "       'Returns', 'Customer Name', 'Age', 'Gender', 'Churn'],\n",
      "      dtype='object')\n"
     ]
    }
   ],
   "source": [
    "print(df.columns)"
   ]
  },
  {
   "cell_type": "code",
   "execution_count": 79,
   "id": "4506fd6b-8678-4c19-a14b-52578bbaa384",
   "metadata": {},
   "outputs": [],
   "source": [
    "import pandas as pd\n",
    "from sklearn.model_selection import train_test_split\n",
    "from sklearn.preprocessing import StandardScaler\n",
    "\n",
    "df = pd.get_dummies(df, columns=['Product Category', 'Payment Method', 'Gender'], drop_first=True)\n",
    "\n",
    "# Feature scaling\n",
    "scaler = StandardScaler()\n",
    "scaled_features = scaler.fit_transform(df[['Product Price', 'Total Purchase Amount', 'Customer Age']])\n",
    "df[['Product Price', 'Total Purchase Amount', 'Customer Age']] = scaled_features\n",
    "\n",
    "# Splitting the data into training and testing sets\n",
    "X = df.drop(['Customer ID', 'Purchase Date', 'Returns', 'Customer Name', 'Churn'], axis=1)\n",
    "y = df['Churn']  # or 'Returns', depending on what you're predicting\n",
    "\n",
    "X_train, X_test, y_train, y_test = train_test_split(X, y, test_size=0.2, random_state=42)"
   ]
  },
  {
   "cell_type": "markdown",
   "id": "5de385a9-d497-41e1-8578-636e247bf161",
   "metadata": {},
   "source": [
    "## Linear Regression"
   ]
  },
  {
   "cell_type": "code",
   "execution_count": 80,
   "id": "00a4731a-dc53-46f1-b02d-0c6088e0eb01",
   "metadata": {},
   "outputs": [
    {
     "name": "stdout",
     "output_type": "stream",
     "text": [
      "Mean Squared Error: 0.9993181643763727\n"
     ]
    }
   ],
   "source": [
    "from sklearn.linear_model import LinearRegression\n",
    "from sklearn.metrics import mean_squared_error\n",
    "from sklearn.model_selection import train_test_split\n",
    "\n",
    "# Define features (X) and target variable (y)\n",
    "X = df.drop(['Total Purchase Amount', 'Customer ID', 'Purchase Date', 'Returns', 'Customer Name', 'Churn'], axis=1)\n",
    "y = df['Total Purchase Amount']\n",
    "\n",
    "# Split the data\n",
    "X_train, X_test, y_train, y_test = train_test_split(X, y, test_size=0.2, random_state=42)\n",
    "\n",
    "# Initialize and train the model\n",
    "model = LinearRegression()\n",
    "model.fit(X_train, y_train)\n",
    "\n",
    "# Predictions\n",
    "y_pred = model.predict(X_test)\n",
    "\n",
    "# Evaluate the model\n",
    "mse = mean_squared_error(y_test, y_pred)\n",
    "print(f'Mean Squared Error: {mse}')\n"
   ]
  },
  {
   "cell_type": "code",
   "execution_count": null,
   "id": "48193f7e-66ab-4741-aea7-514e8d7d93c7",
   "metadata": {},
   "outputs": [],
   "source": []
  },
  {
   "cell_type": "markdown",
   "id": "b810afe7-a414-4249-be20-1ddf22556fe7",
   "metadata": {},
   "source": [
    "## Cross Validation For Linear Regression"
   ]
  },
  {
   "cell_type": "code",
   "execution_count": 81,
   "id": "1e731713-01bb-4e65-b755-be48c11b3ea7",
   "metadata": {},
   "outputs": [
    {
     "name": "stdout",
     "output_type": "stream",
     "text": [
      "Cross-Validation Scores: [-1.00296364 -1.00189746 -0.99144301 -0.99437972 -0.99612099]\n",
      "Mean CV MSE: 0.9973609640724124\n"
     ]
    }
   ],
   "source": [
    "from sklearn.model_selection import cross_val_score\n",
    "\n",
    "# Perform 5-fold cross-validation for linear regression\n",
    "cross_val_scores = cross_val_score(model, X, y, cv=5, scoring='neg_mean_squared_error')\n",
    "\n",
    "# Print results\n",
    "print(f'Cross-Validation Scores: {cross_val_scores}')\n",
    "print(f'Mean CV MSE: {-cross_val_scores.mean()}')\n"
   ]
  },
  {
   "cell_type": "markdown",
   "id": "f0f93e42-62e3-4dc4-9b5c-cefe1a2c7e55",
   "metadata": {},
   "source": [
    "## Performance metrics for the model"
   ]
  },
  {
   "cell_type": "code",
   "execution_count": 82,
   "id": "0164d055-875b-4f82-aa1f-56337734655d",
   "metadata": {},
   "outputs": [
    {
     "name": "stdout",
     "output_type": "stream",
     "text": [
      "Mean Squared Error: 0.9993181643763727\n",
      "Root Mean Squared Error: 0.9996590240558891\n",
      "Mean Absolute Error: 0.8661135906321362\n",
      "R² Score: 0.0026690511505077508\n"
     ]
    }
   ],
   "source": [
    "from sklearn.metrics import mean_absolute_error, r2_score, mean_squared_error\n",
    "import numpy as np\n",
    "\n",
    "# Assuming y_test are true values and y_pred are predicted values\n",
    "mse = mean_squared_error(y_test, y_pred)\n",
    "rmse = np.sqrt(mse)  # Root Mean Squared Error\n",
    "mae = mean_absolute_error(y_test, y_pred)  # Mean Absolute Error\n",
    "r2 = r2_score(y_test, y_pred)  # R^2 Score\n",
    "\n",
    "print(f\"Mean Squared Error: {mse}\")\n",
    "print(f\"Root Mean Squared Error: {rmse}\")\n",
    "print(f\"Mean Absolute Error: {mae}\")\n",
    "print(f\"R² Score: {r2}\")\n"
   ]
  },
  {
   "cell_type": "markdown",
   "id": "c04882db-1eb5-4b1d-82a2-3b86d614f893",
   "metadata": {},
   "source": [
    "## Updating Linear Regression with Multiple Variables"
   ]
  },
  {
   "cell_type": "code",
   "execution_count": 83,
   "id": "8f4ac68c-00b0-4dea-a79b-79acbaec77be",
   "metadata": {},
   "outputs": [
    {
     "name": "stdout",
     "output_type": "stream",
     "text": [
      "Multi-variable MSE: 0.9993799535324418\n",
      "R² Score: 0.0026073848665875143\n"
     ]
    }
   ],
   "source": [
    "from sklearn.linear_model import LinearRegression\n",
    "from sklearn.model_selection import train_test_split\n",
    "\n",
    "# Select features (X) and target variable (y)\n",
    "X = df[['Product Price', 'Quantity', 'Customer Age']]  # Multiple variables\n",
    "y = df['Total Purchase Amount']\n",
    "\n",
    "# Train-test split\n",
    "X_train, X_test, y_train, y_test = train_test_split(X, y, test_size=0.2, random_state=42)\n",
    "\n",
    "# Initialize and fit the model\n",
    "multi_var_model = LinearRegression()\n",
    "multi_var_model.fit(X_train, y_train)\n",
    "\n",
    "# Predictions\n",
    "y_pred = multi_var_model.predict(X_test)\n",
    "\n",
    "# Performance metrics\n",
    "mse = mean_squared_error(y_test, y_pred)\n",
    "r2 = r2_score(y_test, y_pred)\n",
    "\n",
    "print(f\"Multi-variable MSE: {mse}\")\n",
    "print(f\"R² Score: {r2}\")\n"
   ]
  },
  {
   "cell_type": "code",
   "execution_count": null,
   "id": "633dfcf4-58f7-44fd-b4fa-e7ca95c8dfd1",
   "metadata": {},
   "outputs": [],
   "source": []
  }
 ],
 "metadata": {
  "kernelspec": {
   "display_name": "Python 3 (ipykernel)",
   "language": "python",
   "name": "python3"
  },
  "language_info": {
   "codemirror_mode": {
    "name": "ipython",
    "version": 3
   },
   "file_extension": ".py",
   "mimetype": "text/x-python",
   "name": "python",
   "nbconvert_exporter": "python",
   "pygments_lexer": "ipython3",
   "version": "3.12.3"
  }
 },
 "nbformat": 4,
 "nbformat_minor": 5
}
